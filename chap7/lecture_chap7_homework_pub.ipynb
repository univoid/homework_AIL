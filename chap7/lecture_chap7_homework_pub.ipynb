{
 "cells": [
  {
   "cell_type": "markdown",
   "metadata": {},
   "source": [
    "# 第7回講義 宿題"
   ]
  },
  {
   "cell_type": "markdown",
   "metadata": {},
   "source": [
    "## 課題. Tensorflowを用いて, MNISTを畳み込みニューラルネットワーク(CNN)で学習せよ"
   ]
  },
  {
   "cell_type": "markdown",
   "metadata": {},
   "source": [
    "### 注意"
   ]
  },
  {
   "cell_type": "markdown",
   "metadata": {},
   "source": [
    "- homework関数を完成させて提出してください\n",
    "    - 訓練データはtrain_X, train_y, テストデータはtest_Xで与えられます\n",
    "    - train_Xとtrain_yをtrain_X, train_yとvalid_X, valid_yに分けるなどしてモデルを学習させてください\n",
    "    - test_Xに対して予想ラベルpred_yを作り, homework関数の戻り値としてください\\\n",
    "- pred_yのtest_yに対する精度(F値)で評価します\n",
    "- 全体の実行時間がiLect上で60分を超えないようにしてください\n",
    "- homework関数の外には何も書かないでください (必要なものは全てhomework関数に入れてください)\n",
    "- 解答提出時には Answer Cell の内容のみを提出してください"
   ]
  },
  {
   "cell_type": "markdown",
   "metadata": {},
   "source": [
    "**`tf` の以下のモジュールはこの回では使用できないように制限されています. 注意してください.**\n",
    "```python\n",
    "tf.app\n",
    "tf.compat\n",
    "tf.contrib\n",
    "tf.erros\n",
    "tf.gfile\n",
    "tf.graph_util\n",
    "tf.image\n",
    "tf.layers\n",
    "tf.logging\n",
    "tf.losses\n",
    "tf.metrics\n",
    "tf.python_io\n",
    "tf.resource_loader\n",
    "tf.saved_model\n",
    "tf.sdca\n",
    "tf.sets\n",
    "tf.summary\n",
    "tf.sysconfig\n",
    "tf.test\n",
    "```"
   ]
  },
  {
   "cell_type": "markdown",
   "metadata": {},
   "source": [
    "次のセルのhomework関数を完成させて提出してください"
   ]
  },
  {
   "cell_type": "markdown",
   "metadata": {},
   "source": [
    "# Answer Cell"
   ]
  },
  {
   "cell_type": "code",
   "execution_count": null,
   "metadata": {
    "collapsed": true
   },
   "outputs": [],
   "source": [
    "def homework(train_X, train_y, test_X):\n",
    "    rng = np.random.RandomState(1234)\n",
    "    random_state = 42\n",
    "    class Conv:\n",
    "        def __init__(self, filter_shape, function=lambda x: x, strides=[1, 1, 1, 1], padding='VALID'):\n",
    "            fan_in = np.prod(filter_shape[:3])\n",
    "            fan_out = np.prod(filter_shape[:2]) * filter_shape[3]\n",
    "            self.W = tf.Variable(rng.uniform(\n",
    "                            low = -np.sqrt(6/(fan_in + fan_out)),\n",
    "                            high = np.sqrt(6/(fan_in + fan_out)),\n",
    "                            size = filter_shape\n",
    "                    ).astype('float32'), name = 'W')\n",
    "            self.b = tf.Variable(np.zeros((filter_shape[3]), dtype='float32'), name= 'b')\n",
    "            self.function = function\n",
    "            self.strides = strides\n",
    "            self.padding = padding\n",
    "            \n",
    "        def f_prop(self, x):\n",
    "            u = tf.nn.conv2d(x, self.W, strides=self.strides, padding=self.padding) + self.b\n",
    "            return self.function(u)\n",
    "        \n",
    "    class Pooling:\n",
    "        def __init__(self, ksize=[1,2,2,1], strides=[1,2,2,1], padding='VALID'):\n",
    "            self.ksize = ksize\n",
    "            self.strides = strides\n",
    "            self.padding = padding\n",
    "        \n",
    "        def f_prop(self, x):\n",
    "            return tf.nn.max_pool(x, ksize=self.ksize, strides=self.strides, padding='VALID')\n",
    "        \n",
    "    class Flatten:\n",
    "        def f_prop(self, x):\n",
    "            return tf.reshape(x, (-1, np.prod(x.get_shape().as_list()[1:])))\n",
    "    \n",
    "    class Dense:\n",
    "        def __init__(self, in_dim, out_dim, function=lambda x: x):\n",
    "            self.W = tf.Variable(rng.uniform(\n",
    "                            low=-np.sqrt(6/(in_dim + out_dim)),\n",
    "                            high=np.sqrt(6/(in_dim + out_dim)),\n",
    "                            size=(in_dim, out_dim)\n",
    "                        ).astype('float32'), name='W')\n",
    "            self.b = tf.Variable(np.zeros([out_dim]).astype('float32'))\n",
    "            self.function = function\n",
    "        \n",
    "        def f_prop(self, x):\n",
    "            return self.function(tf.matmul(x, self.W) + self.b)\n",
    "\n",
    "    # main set\n",
    "    layers = [\n",
    "        Conv((5, 5, 1, 20), tf.nn.relu),\n",
    "        Pooling((1, 2, 2, 1)),\n",
    "        Conv((5, 5, 20, 50), tf.nn.relu),\n",
    "        Pooling((1, 2, 2, 1)),\n",
    "        Flatten(),\n",
    "        Dense(4*4*50, 10, tf.nn.softmax)\n",
    "    ]\n",
    "    x = tf.placeholder(tf.float32, [None, 28, 28, 1])\n",
    "    t = tf.placeholder(tf.float32, [None, 10])\n",
    "    \n",
    "    def f_props(layers, x):\n",
    "        for layer in layers:\n",
    "            x = layer.f_prop(x)\n",
    "        return x\n",
    "    \n",
    "    y = f_props(layers, x)\n",
    "    \n",
    "    cost = -tf.reduce_mean(tf.reduce_sum(t * tf.log(tf.clip_by_value(y, 1e-10, 1.0)), axis=1))\n",
    "    train = tf.train.GradientDescentOptimizer(0.01).minimize(cost)\n",
    "    \n",
    "    valid = tf.argmax(y, 1)\n",
    "    \n",
    "    # main learning process\n",
    "    n_epochs = 123\n",
    "    batch_size = 100\n",
    "    n_batches = train_X.shape[0] // batch_size\n",
    "    \n",
    "    init = tf.global_variables_initializer()\n",
    "    with tf.Session() as sess:\n",
    "        sess.run(init)\n",
    "        for epoch in range(n_epochs):\n",
    "            train_X, train_y = shuffle(train_X, train_y, random_state = random_state)\n",
    "            for i in range(n_batches):\n",
    "                start = i * batch_size\n",
    "                end = start + batch_size\n",
    "                sess.run(train, feed_dict={x: train_X[start:end], t: train_y[start:end]})\n",
    "        pred_y = sess.run(valid, feed_dict={x: test_X})\n",
    "    \n",
    "    return pred_y"
   ]
  },
  {
   "cell_type": "markdown",
   "metadata": {},
   "source": [
    "- 以下のvalidate_homework関数を用いてエラーが起きないか動作確認をして下さい。\n",
    "- 提出に際して、以下のscore_homework関数で60分で実行が終わることを確認して下さい。\n",
    "- 評価は以下のscore_homework関数で行われますが、random_stateの値は変更されます。"
   ]
  },
  {
   "cell_type": "markdown",
   "metadata": {},
   "source": [
    "# Checker Cell (for student)"
   ]
  },
  {
   "cell_type": "code",
   "execution_count": null,
   "metadata": {
    "collapsed": true
   },
   "outputs": [],
   "source": [
    "from sklearn.utils import shuffle\n",
    "from sklearn.metrics import f1_score\n",
    "from sklearn.model_selection import train_test_split\n",
    "from tensorflow.examples.tutorials.mnist import input_data\n",
    "\n",
    "import numpy as np\n",
    "import tensorflow as tf\n",
    "\n",
    "del [\n",
    "    tf.app,\n",
    "    tf.compat,\n",
    "    tf.contrib,\n",
    "    tf.errors,\n",
    "    tf.gfile,\n",
    "    tf.graph_util,\n",
    "    tf.image,\n",
    "    tf.layers,\n",
    "    tf.logging,\n",
    "    tf.losses,\n",
    "    tf.metrics,\n",
    "    tf.python_io,\n",
    "    tf.resource_loader,\n",
    "    tf.saved_model,\n",
    "    tf.sdca,\n",
    "    tf.sets,\n",
    "    tf.summary,\n",
    "    tf.sysconfig,\n",
    "    tf.test\n",
    "]\n",
    "\n",
    "def load_mnist():\n",
    "    mnist = input_data.read_data_sets('MNIST_data/', one_hot=True)\n",
    "    mnist_X = np.r_[mnist.train.images, mnist.test.images]\n",
    "    mnist_y = np.r_[mnist.train.labels, mnist.test.labels]\n",
    "    return train_test_split(mnist_X, mnist_y, test_size=0.2, random_state=42)\n",
    "\n",
    "def validate_homework():\n",
    "    train_X, test_X, train_y, test_y = load_mnist()\n",
    "    train_X = train_X.reshape((train_X.shape[0], 28, 28, 1))\n",
    "    test_X = test_X.reshape((test_X.shape[0], 28, 28, 1))\n",
    "\n",
    "    # validate for small dataset\n",
    "    train_X_mini = train_X[:100]\n",
    "    train_y_mini = train_y[:100]\n",
    "    test_X_mini = test_X[:100]\n",
    "    test_y_mini = test_y[:100]\n",
    "\n",
    "    pred_y = homework(train_X_mini, train_y_mini, test_X_mini)\n",
    "    print(f1_score(np.argmax(test_y_mini, 1), pred_y, average='macro'))\n",
    "\n",
    "def score_homework():\n",
    "    train_X, test_X, train_y, test_y = load_mnist()\n",
    "    train_X = train_X.reshape((train_X.shape[0], 28, 28, 1))\n",
    "    test_X = test_X.reshape((test_X.shape[0], 28, 28, 1))\n",
    "    \n",
    "    pred_y = homework(train_X, train_y, test_X)\n",
    "    print(f1_score(np.argmax(test_y, 1), pred_y, average='macro'))"
   ]
  },
  {
   "cell_type": "code",
   "execution_count": null,
   "metadata": {
    "collapsed": true
   },
   "outputs": [],
   "source": [
    "validate_homework()\n",
    "#score_homework()"
   ]
  }
 ],
 "metadata": {
  "kernelspec": {
   "display_name": "Python 2",
   "language": "python",
   "name": "python2"
  },
  "language_info": {
   "codemirror_mode": {
    "name": "ipython",
    "version": 2
   },
   "file_extension": ".py",
   "mimetype": "text/x-python",
   "name": "python",
   "nbconvert_exporter": "python",
   "pygments_lexer": "ipython2",
   "version": "2.7.10"
  }
 },
 "nbformat": 4,
 "nbformat_minor": 1
}
