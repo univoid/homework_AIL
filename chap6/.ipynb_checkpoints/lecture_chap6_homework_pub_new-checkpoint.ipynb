{
 "cells": [
  {
   "cell_type": "markdown",
   "metadata": {},
   "source": [
    "# 第6回講義 宿題"
   ]
  },
  {
   "cell_type": "markdown",
   "metadata": {},
   "source": [
    "## 課題. Stacked Denoising Autoencoderで事前学習をした上で, MNISTを多層パーセプトロンで学習せよ"
   ]
  },
  {
   "cell_type": "markdown",
   "metadata": {},
   "source": [
    "### 注意"
   ]
  },
  {
   "cell_type": "markdown",
   "metadata": {},
   "source": [
    "- homework関数を完成させて提出してください\n",
    "    - 訓練データはtrain_X, train_y, テストデータはtest_Xで与えられます\n",
    "    - train_Xとtrain_yをtrain_X, train_yとvalid_X, valid_yに分けるなどしてモデルを学習させてください\n",
    "    - test_Xに対して予想ラベルpred_yを作り, homework関数の戻り値としてください\\\n",
    "- pred_yのtest_yに対する精度(F値)で評価します\n",
    "- 全体の実行時間がiLect上で60分を超えないようにしてください\n",
    "- homework関数の外には何も書かないでください (必要なものは全てhomework関数に入れてください)\n",
    "- 解答提出時には Answer Cell の内容のみを提出してください"
   ]
  },
  {
   "cell_type": "markdown",
   "metadata": {},
   "source": [
    "- CNNは使わないでください"
   ]
  },
  {
   "cell_type": "markdown",
   "metadata": {},
   "source": [
    "**`tf` の以下のモジュールはこの回では使用できないように制限されています. 注意してください.**\n",
    "```python\n",
    "tf.app\n",
    "tf.compat\n",
    "tf.contrib\n",
    "tf.erros\n",
    "tf.gfile\n",
    "tf.graph_util\n",
    "tf.image\n",
    "tf.layers\n",
    "tf.logging\n",
    "tf.losses\n",
    "tf.metrics\n",
    "tf.python_io\n",
    "tf.resource_loader\n",
    "tf.saved_model\n",
    "tf.sdca\n",
    "tf.sets\n",
    "tf.summary\n",
    "tf.sysconfig\n",
    "tf.test\n",
    "tf.train\n",
    "```"
   ]
  },
  {
   "cell_type": "markdown",
   "metadata": {},
   "source": [
    "次のセルを完成させて提出してください"
   ]
  },
  {
   "cell_type": "markdown",
   "metadata": {},
   "source": [
    "# Answer Cell"
   ]
  },
  {
   "cell_type": "code",
   "execution_count": null,
   "metadata": {
    "collapsed": true
   },
   "outputs": [],
   "source": [
    "def homework(train_X, train_y, test_X):\n",
    "    random_state = 42\n",
    "    rng = np.random.RandomState(1234)\n",
    "    class Autoencoder:\n",
    "        def __init__(self, vis_dim, hid_dim, W, function=lambda x: x):\n",
    "            self.W = W\n",
    "            self.a = tf.Variable(np.zeros(vis_dim).astype('float32'), name='a')\n",
    "            self.b = tf.Variable(np.zeros(hid_dim).astype('float32'), name='b')\n",
    "            self.function = function\n",
    "            self.params = [self.W, self.a, self.b]\n",
    "\n",
    "        def encode(self, x):\n",
    "            u = tf.matmul(x, self.W) + self.b\n",
    "            return self.function(u)\n",
    "\n",
    "        def decode(self, x):\n",
    "            u = tf.matmul(x, tf.transpose(self.W)) + self.a\n",
    "            return self.function(u)\n",
    "\n",
    "        def f_prop(self, x):\n",
    "            y = self.encode(x)\n",
    "            return self.decode(y)\n",
    "\n",
    "        def reconst_error(self, x, noise):\n",
    "            tilde_x = x * noise\n",
    "            reconst_x = self.f_prop(tilde_x)\n",
    "            error = -tf.reduce_mean(tf.reduce_sum(x * tf.log(reconst_x) + (1. - x) * tf.log(1. - reconst_x), axis=1))\n",
    "            return error, reconst_x\n",
    "        \n",
    "    class Dense:\n",
    "        def __init__(self, in_dim, out_dim, function):\n",
    "            self.W = tf.Variable(rng.uniform(low=-0.08, high=0.08, size=(in_dim, out_dim)).astype('float32'), name='W')\n",
    "            self.b = tf.Variable(np.zeros([out_dim]).astype('float32'))\n",
    "            self.function = function\n",
    "            self.params = [self.W, self.b]\n",
    "\n",
    "            self.ae = Autoencoder(in_dim, out_dim, self.W, self.function)\n",
    "\n",
    "        def f_prop(self, x):\n",
    "            u = tf.matmul(x, self.W) + self.b\n",
    "            self.z = self.function(u)\n",
    "            return self.z\n",
    "\n",
    "        def pretrain(self, x, noise):\n",
    "            cost, reconst_x = self.ae.reconst_error(x, noise)\n",
    "            return cost, reconst_x\n",
    "        \n",
    "    layers = [\n",
    "    Dense(784, 500, tf.nn.sigmoid),\n",
    "    Dense(500, 500, tf.nn.sigmoid),\n",
    "    Dense(500, 10, tf.nn.softmax)\n",
    "    ]\n",
    "    \n",
    "    # pre-training\n",
    "    def sgd(cost, params, eps=np.float32(0.1)):\n",
    "        g_params = tf.gradients(cost, params)\n",
    "        updates = []\n",
    "        for param, g_param in zip(params, g_params):\n",
    "            if g_param != None:\n",
    "                updates.append(param.assign_add(-eps*g_param))\n",
    "        return updates\n",
    "    \n",
    "    X = np.copy(train_X)\n",
    "\n",
    "    sess = tf.Session()\n",
    "    init = tf.global_variables_initializer()\n",
    "    sess.run(init)\n",
    "    for l, layer in enumerate(layers[:-1]):\n",
    "        corruption_level = np.float(0.3)\n",
    "        batch_size = 100\n",
    "        n_batches = X.shape[0] // batch_size\n",
    "        n_epochs = 10\n",
    "\n",
    "        x = tf.placeholder(tf.float32)\n",
    "        noise = tf.placeholder(tf.float32)\n",
    "\n",
    "        cost, reconst_x = layer.pretrain(x, noise)\n",
    "        params = layer.params\n",
    "        train = sgd(cost, params)\n",
    "        encode = layer.f_prop(x)\n",
    "\n",
    "        for epoch in range(n_epochs):\n",
    "            X = shuffle(X, random_state=random_state)\n",
    "            err_all = []\n",
    "            for i in range(n_batches):\n",
    "                start = i * batch_size\n",
    "                end = start + batch_size\n",
    "\n",
    "                _noise = rng.binomial(size=X[start:end].shape, n=1, p=1-corruption_level)\n",
    "                _, err = sess.run([train, cost], feed_dict={x: X[start:end], noise: _noise})\n",
    "                err_all.append(err)\n",
    "            # print('Pretraining:: layer: %d, Epoch: %d, Error: %lf' % (l+1, epoch+1, np.mean(err)))\n",
    "        X = sess.run(encode, feed_dict={x: X})\n",
    "    \n",
    "    # set graph and params\n",
    "    x = tf.placeholder(tf.float32, [None, 784])\n",
    "    t = tf.placeholder(tf.float32, [None, 10])\n",
    "\n",
    "    def f_props(layers, x):\n",
    "        params = []\n",
    "        for layer in layers:\n",
    "            x = layer.f_prop(x)\n",
    "            params += layer.params\n",
    "        return x, params\n",
    "\n",
    "    y, params = f_props(layers, x)\n",
    "\n",
    "    cost = -tf.reduce_mean(tf.reduce_sum(t * tf.log(y), 1))\n",
    "    updates = sgd(cost, params)\n",
    "\n",
    "    train = tf.group(*updates)\n",
    "    valid = tf.argmax(y, 1)\n",
    "    \n",
    "    # learning\n",
    "    n_epochs = 432\n",
    "    batch_size = 100\n",
    "    n_batches = train_X.shape[0] // batch_size\n",
    "\n",
    "    for epoch in range(n_epochs):\n",
    "        train_X, train_y = shuffle(train_X, train_y, random_state=random_state)\n",
    "        for i in range(n_batches):\n",
    "            start = i * batch_size\n",
    "            end = start + batch_size\n",
    "            sess.run(train, feed_dict={x: train_X[start:end], t: train_y[start:end]})\n",
    "    \n",
    "    pred_y = sess.run(valid, feed_dict={x: test_X})\n",
    "\n",
    "    return pred_y"
   ]
  },
  {
   "cell_type": "markdown",
   "metadata": {},
   "source": [
    "- 以下のvalidate_homework関数を用いてエラーが起きないか動作確認をして下さい。\n",
    "- 提出に際して、以下のscore_homework関数で60分で実行が終わることを確認して下さい。\n",
    "- 評価は以下のscore_homework関数で行われますが、random_stateの値は変更されます。"
   ]
  },
  {
   "cell_type": "markdown",
   "metadata": {},
   "source": [
    "# Checker Cell (for student)"
   ]
  },
  {
   "cell_type": "code",
   "execution_count": null,
   "metadata": {
    "collapsed": true
   },
   "outputs": [],
   "source": [
    "from sklearn.utils import shuffle\n",
    "from sklearn.metrics import f1_score\n",
    "from sklearn.model_selection import train_test_split\n",
    "from tensorflow.examples.tutorials.mnist import input_data\n",
    "\n",
    "import numpy as np\n",
    "import tensorflow as tf\n",
    "\n",
    "del [\n",
    "    tf.app,\n",
    "    tf.compat,\n",
    "    tf.contrib,\n",
    "    tf.errors,\n",
    "    tf.gfile,\n",
    "    tf.graph_util,\n",
    "    tf.image,\n",
    "    tf.layers,\n",
    "    tf.logging,\n",
    "    tf.losses,\n",
    "    tf.metrics,\n",
    "    tf.python_io,\n",
    "    tf.resource_loader,\n",
    "    tf.saved_model,\n",
    "    tf.sdca,\n",
    "    tf.sets,\n",
    "    tf.summary,\n",
    "    tf.sysconfig,\n",
    "    tf.test,\n",
    "    tf.train\n",
    "]\n",
    "\n",
    "def load_mnist():\n",
    "    mnist = input_data.read_data_sets('MNIST_data/', one_hot=True)\n",
    "    mnist_X = np.r_[mnist.train.images, mnist.test.images]\n",
    "    mnist_y = np.r_[mnist.train.labels, mnist.test.labels]\n",
    "    return train_test_split(mnist_X, mnist_y, test_size=0.2, random_state=42)\n",
    "\n",
    "def validate_homework():\n",
    "    train_X, test_X, train_y, test_y = load_mnist()\n",
    "\n",
    "    # validate for small dataset\n",
    "    train_X_mini = train_X[:100]\n",
    "    train_y_mini = train_y[:100]\n",
    "    test_X_mini = test_X[:100]\n",
    "    test_y_mini = test_y[:100]\n",
    "\n",
    "    pred_y = homework(train_X_mini, train_y_mini, test_X_mini)\n",
    "    print(f1_score(np.argmax(test_y_mini, 1), pred_y, average='macro'))\n",
    "\n",
    "def score_homework():\n",
    "    train_X, test_X, train_y, test_y = load_mnist()\n",
    "    pred_y = homework(train_X, train_y, test_X)\n",
    "    print(f1_score(np.argmax(test_y, 1), pred_y, average='macro'))"
   ]
  },
  {
   "cell_type": "code",
   "execution_count": null,
   "metadata": {
    "collapsed": true
   },
   "outputs": [],
   "source": [
    "validate_homework()\n",
    "#score_homework()"
   ]
  }
 ],
 "metadata": {
  "kernelspec": {
   "display_name": "Python 2",
   "language": "python",
   "name": "python2"
  },
  "language_info": {
   "codemirror_mode": {
    "name": "ipython",
    "version": 2
   },
   "file_extension": ".py",
   "mimetype": "text/x-python",
   "name": "python",
   "nbconvert_exporter": "python",
   "pygments_lexer": "ipython2",
   "version": "2.7.10"
  }
 },
 "nbformat": 4,
 "nbformat_minor": 1
}
